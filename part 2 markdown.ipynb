{
 "cells": [
  {
   "cell_type": "markdown",
   "id": "64e361a0",
   "metadata": {},
   "source": [
    "# Welcome to numpy tutorial"
   ]
  },
  {
   "cell_type": "markdown",
   "id": "fd0ad193",
   "metadata": {},
   "source": [
    "*this* (italic)"
   ]
  },
  {
   "cell_type": "markdown",
   "id": "53aa42cc",
   "metadata": {},
   "source": [
    "**this** (bold)"
   ]
  },
  {
   "cell_type": "markdown",
   "id": "01aaaa1f",
   "metadata": {},
   "source": [
    "***this*** (bold and italic)"
   ]
  },
  {
   "cell_type": "code",
   "execution_count": null,
   "id": "0a46d3b8",
   "metadata": {},
   "outputs": [],
   "source": []
  }
 ],
 "metadata": {
  "kernelspec": {
   "display_name": "Python 3 (ipykernel)",
   "language": "python",
   "name": "python3"
  },
  "language_info": {
   "codemirror_mode": {
    "name": "ipython",
    "version": 3
   },
   "file_extension": ".py",
   "mimetype": "text/x-python",
   "name": "python",
   "nbconvert_exporter": "python",
   "pygments_lexer": "ipython3",
   "version": "3.11.2"
  }
 },
 "nbformat": 4,
 "nbformat_minor": 5
}
